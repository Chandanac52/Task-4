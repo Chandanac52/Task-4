{
 "cells": [
  {
   "cell_type": "markdown",
   "metadata": {},
   "source": [
    "# \ud83d\udcca Task 4: Business Optimization Using Linear Programming\n",
    "\n",
    "This notebook demonstrates solving a real-world business problem using **Linear Programming** and **Python's PuLP library**.\n",
    "\n",
    "**Problem Statement**: A factory produces two products (Product A and Product B). The profit per unit is \u20b920 for A and \u20b930 for B. Each product requires processing time on two machines:\n",
    "\n",
    "- Machine 1: A takes 2 hours, B takes 3 hours (Max available: 100 hours)\n",
    "- Machine 2: A takes 1 hour, B takes 2 hours (Max available: 80 hours)\n",
    "\n",
    "### Objective: Maximize total profit while satisfying machine time constraints."
   ]
  },
  {
   "cell_type": "code",
   "execution_count": null,
   "metadata": {},
   "outputs": [],
   "source": [
    "# \u2705 Step 1: Install and import required libraries\n",
    "!pip install pulp\n",
    "from pulp import LpMaximize, LpProblem, LpVariable, value"
   ]
  },
  {
   "cell_type": "code",
   "execution_count": null,
   "metadata": {},
   "outputs": [],
   "source": [
    "# \u2705 Step 2: Define the LP problem\n",
    "model = LpProblem(\"Maximize_Profit\", LpMaximize)\n",
    "\n",
    "# Decision variables (x = units of A, y = units of B)\n",
    "x = LpVariable(\"Product_A\", lowBound=0, cat='Continuous')\n",
    "y = LpVariable(\"Product_B\", lowBound=0, cat='Continuous')\n",
    "\n",
    "# Objective Function\n",
    "model += 20 * x + 30 * y, \"Total_Profit\"\n",
    "\n",
    "# Constraints\n",
    "model += 2 * x + 3 * y <= 100, \"Machine1_Time\"\n",
    "model += 1 * x + 2 * y <= 80, \"Machine2_Time\""
   ]
  },
  {
   "cell_type": "code",
   "execution_count": null,
   "metadata": {},
   "outputs": [],
   "source": [
    "# \u2705 Step 3: Solve the problem\n",
    "model.solve()\n",
    "\n",
    "# \u2705 Step 4: Output results\n",
    "print(f\"Status: {model.status}, {LpProblem.resolve(model)}\")\n",
    "print(f\"Produce {x.varValue:.0f} units of Product A\")\n",
    "print(f\"Produce {y.varValue:.0f} units of Product B\")\n",
    "print(f\"Maximum Profit = \u20b9{value(model.objective):.2f}\")"
   ]
  },
  {
   "cell_type": "markdown",
   "metadata": {},
   "source": [
    "### \u2705 Business Insight:\n",
    "- This solution tells the factory exactly how many units of each product to produce to **maximize profit**.\n",
    "- By formulating as a Linear Programming problem, resource usage is optimized efficiently.\n",
    "\n",
    "\ud83d\udccc You can change the coefficients or constraints to experiment with different scenarios."
   ]
  }
 ],
 "metadata": {
  "kernelspec": {
   "display_name": "Python 3",
   "language": "python",
   "name": "python3"
  },
  "language_info": {
   "name": "python",
   "version": "3.12"
  }
 },
 "nbformat": 4,
 "nbformat_minor": 2
}